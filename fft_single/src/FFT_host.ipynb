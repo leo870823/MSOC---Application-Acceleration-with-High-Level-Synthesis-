{
 "cells": [
  {
   "cell_type": "code",
   "execution_count": 3,
   "metadata": {},
   "outputs": [
    {
     "name": "stdout",
     "output_type": "stream",
     "text": [
      "Entry: /usr/lib/python3/dist-packages/ipykernel_launcher.py\n",
      "System argument(s): 3\n",
      "Start of \"/usr/lib/python3/dist-packages/ipykernel_launcher.py\"\n"
     ]
    },
    {
     "ename": "AttributeError",
     "evalue": "Could not find IP or hierarchy fir_n11_strm_0 in overlay",
     "output_type": "error",
     "traceback": [
      "\u001b[0;31m---------------------------------------------------------------------------\u001b[0m",
      "\u001b[0;31mAttributeError\u001b[0m                            Traceback (most recent call last)",
      "\u001b[0;32m<ipython-input-3-fe4c4a35c391>\u001b[0m in \u001b[0;36m<module>\u001b[0;34m()\u001b[0m\n\u001b[1;32m     17\u001b[0m \u001b[0;34m\u001b[0m\u001b[0m\n\u001b[1;32m     18\u001b[0m     \u001b[0mol\u001b[0m \u001b[0;34m=\u001b[0m \u001b[0mOverlay\u001b[0m\u001b[0;34m(\u001b[0m\u001b[0;34m\"/home/xilinx/bitstream/Cordic.bit\"\u001b[0m\u001b[0;34m)\u001b[0m\u001b[0;34m\u001b[0m\u001b[0m\n\u001b[0;32m---> 19\u001b[0;31m     \u001b[0mipFIRN11\u001b[0m \u001b[0;34m=\u001b[0m \u001b[0mol\u001b[0m\u001b[0;34m.\u001b[0m\u001b[0mfir_n11_strm_0\u001b[0m\u001b[0;34m\u001b[0m\u001b[0m\n\u001b[0m\u001b[1;32m     20\u001b[0m     \u001b[0mipDMAIn\u001b[0m \u001b[0;34m=\u001b[0m \u001b[0mol\u001b[0m\u001b[0;34m.\u001b[0m\u001b[0maxi_dma_in_0\u001b[0m\u001b[0;34m\u001b[0m\u001b[0m\n\u001b[1;32m     21\u001b[0m     \u001b[0mipDMAOut\u001b[0m \u001b[0;34m=\u001b[0m \u001b[0mol\u001b[0m\u001b[0;34m.\u001b[0m\u001b[0maxi_dma_out_0\u001b[0m\u001b[0;34m\u001b[0m\u001b[0m\n",
      "\u001b[0;32m/usr/local/lib/python3.6/dist-packages/pynq/overlay.py\u001b[0m in \u001b[0;36m__getattr__\u001b[0;34m(self, key)\u001b[0m\n\u001b[1;32m    335\u001b[0m         \"\"\"\n\u001b[1;32m    336\u001b[0m         \u001b[0;32mif\u001b[0m \u001b[0mself\u001b[0m\u001b[0;34m.\u001b[0m\u001b[0mis_loaded\u001b[0m\u001b[0;34m(\u001b[0m\u001b[0;34m)\u001b[0m\u001b[0;34m:\u001b[0m\u001b[0;34m\u001b[0m\u001b[0m\n\u001b[0;32m--> 337\u001b[0;31m             \u001b[0;32mreturn\u001b[0m \u001b[0mgetattr\u001b[0m\u001b[0;34m(\u001b[0m\u001b[0mself\u001b[0m\u001b[0;34m.\u001b[0m\u001b[0m_ip_map\u001b[0m\u001b[0;34m,\u001b[0m \u001b[0mkey\u001b[0m\u001b[0;34m)\u001b[0m\u001b[0;34m\u001b[0m\u001b[0m\n\u001b[0m\u001b[1;32m    338\u001b[0m         \u001b[0;32melse\u001b[0m\u001b[0;34m:\u001b[0m\u001b[0;34m\u001b[0m\u001b[0m\n\u001b[1;32m    339\u001b[0m             \u001b[0;32mraise\u001b[0m \u001b[0mRuntimeError\u001b[0m\u001b[0;34m(\u001b[0m\u001b[0;34m\"Overlay not currently loaded\"\u001b[0m\u001b[0;34m)\u001b[0m\u001b[0;34m\u001b[0m\u001b[0m\n",
      "\u001b[0;32m/usr/local/lib/python3.6/dist-packages/pynq/overlay.py\u001b[0m in \u001b[0;36m__getattr__\u001b[0;34m(self, key)\u001b[0m\n\u001b[1;32m    756\u001b[0m         \u001b[0;32melse\u001b[0m\u001b[0;34m:\u001b[0m\u001b[0;34m\u001b[0m\u001b[0m\n\u001b[1;32m    757\u001b[0m             raise AttributeError(\n\u001b[0;32m--> 758\u001b[0;31m                 \"Could not find IP or hierarchy {} in overlay\".format(key))\n\u001b[0m\u001b[1;32m    759\u001b[0m \u001b[0;34m\u001b[0m\u001b[0m\n\u001b[1;32m    760\u001b[0m     \u001b[0;32mdef\u001b[0m \u001b[0m_keys\u001b[0m\u001b[0;34m(\u001b[0m\u001b[0mself\u001b[0m\u001b[0;34m)\u001b[0m\u001b[0;34m:\u001b[0m\u001b[0;34m\u001b[0m\u001b[0m\n",
      "\u001b[0;31mAttributeError\u001b[0m: Could not find IP or hierarchy fir_n11_strm_0 in overlay"
     ]
    }
   ],
   "source": [
    "from __future__ import print_function\n",
    "\n",
    "import sys\n",
    "import numpy as np\n",
    "from time import time\n",
    "import matplotlib.pyplot as plt \n",
    "\n",
    "sys.path.append('/home/xilinx')\n",
    "from pynq import Overlay\n",
    "from pynq import allocate\n",
    "\n",
    "if __name__ == \"__main__\":\n",
    "    print(\"Entry:\", sys.argv[0])\n",
    "    print(\"System argument(s):\", len(sys.argv))\n",
    "\n",
    "    print(\"Start of \\\"\" + sys.argv[0] + \"\\\"\")\n",
    "\n",
    "    ol = Overlay(\"/home/xilinx/bitstream/FIRN11Stream.bit\")\n",
    "    ipFIRN11 = ol.fir_n11_strm_0\n",
    "    ipDMAIn = ol.axi_dma_in_0\n",
    "    ipDMAOut = ol.axi_dma_out_0\n",
    "\n",
    "    fiSamples = open(\"samples_triangular_wave.txt\", \"r+\")\n",
    "    numSamples = 0\n",
    "    line = fiSamples.readline()\n",
    "    while line:\n",
    "        numSamples = numSamples + 1\n",
    "        line = fiSamples.readline()\n",
    "\n",
    "    inBuffer0 = allocate(shape=(numSamples,), dtype=np.int32)\n",
    "    outBuffer0 = allocate(shape=(numSamples,), dtype=np.int32)\n",
    "    fiSamples.seek(0)\n",
    "    for i in range(numSamples):\n",
    "        line = fiSamples.readline()\n",
    "        inBuffer0[i] = int(line)\n",
    "    fiSamples.close()\n",
    "\n",
    "    numTaps = 11\n",
    "    n32Taps = [0, -10, -9, 23, 56, 63, 56, 23, -9, -10, 0]\n",
    "    #n32Taps = [1, 0, 0, 0, 0, 0, 0, 0, 0, 0, 1]\n",
    "    n32DCGain = 0\n",
    "    timeKernelStart = time()\n",
    "    for i in range(numTaps):\n",
    "        n32DCGain = n32DCGain + n32Taps[i]\n",
    "        ipFIRN11.write(0x40 + i * 4, n32Taps[i])\n",
    "    if n32DCGain < 0:\n",
    "        n32DCGain = 0 - n32DCGain\n",
    "    ipFIRN11.write(0x80, len(inBuffer0) * 4)\n",
    "    ipFIRN11.write(0x00, 0x01)\n",
    "    ipDMAIn.sendchannel.transfer(inBuffer0)\n",
    "    ipDMAOut.recvchannel.transfer(outBuffer0)\n",
    "    ipDMAIn.sendchannel.wait()\n",
    "    ipDMAOut.recvchannel.wait()\n",
    "    timeKernelEnd = time()\n",
    "    print(\"Kernel execution time: \" + str(timeKernelEnd - timeKernelStart) + \" s\")\n",
    "      \n",
    "    plt.title(\"FIR Response\")\n",
    "    plt.xlabel(\"Sample Point\") \n",
    "    plt.ylabel(\"Magnitude\")\n",
    "    xSeq = range(len(inBuffer0))\n",
    "    if n32DCGain == 0:\n",
    "        plt.plot(xSeq, inBuffer0, 'b.', xSeq, outBuffer0, 'r.')\n",
    "    else:\n",
    "        plt.plot(xSeq, inBuffer0, 'b.', xSeq, outBuffer0 / n32DCGain, 'r.')\n",
    "    plt.grid(True)\n",
    "    plt.show() # In Jupyter, press Tab + Shift keys to show plot then redo run\n",
    "\n",
    "    print(\"============================\")\n",
    "    print(\"Exit process\")"
   ]
  },
  {
   "cell_type": "code",
   "execution_count": null,
   "metadata": {},
   "outputs": [],
   "source": []
  },
  {
   "cell_type": "code",
   "execution_count": null,
   "metadata": {},
   "outputs": [],
   "source": []
  }
 ],
 "metadata": {
  "kernelspec": {
   "display_name": "Python 3",
   "language": "python",
   "name": "python3"
  },
  "language_info": {
   "codemirror_mode": {
    "name": "ipython",
    "version": 3
   },
   "file_extension": ".py",
   "mimetype": "text/x-python",
   "name": "python",
   "nbconvert_exporter": "python",
   "pygments_lexer": "ipython3",
   "version": "3.6.5"
  }
 },
 "nbformat": 4,
 "nbformat_minor": 2
}
